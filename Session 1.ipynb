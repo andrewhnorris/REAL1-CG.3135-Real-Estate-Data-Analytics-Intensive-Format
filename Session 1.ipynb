{
 "cells": [
  {
   "cell_type": "markdown",
   "metadata": {},
   "source": [
    "# REAL1-CG.3135: Real Estate Data Analytics (Accelerated Format)"
   ]
  },
  {
   "cell_type": "markdown",
   "metadata": {},
   "source": [
    "## Session 1"
   ]
  },
  {
   "cell_type": "markdown",
   "metadata": {},
   "source": [
    "## Course Introduction and Overview"
   ]
  },
  {
   "cell_type": "markdown",
   "metadata": {},
   "source": [
    "* Like every other major industry, CRE will be disrupted by the application of technology empowered by data analytics. \n",
    "* It will be called different things, but it is the same thing.\n",
    "    * Econometrics and forecasting\n",
    "    * Statistical learning\n",
    "    * Machine learning\n",
    "    * Artificial intelligence\n",
    "* Why?\n",
    "    * Example: I want to predict what the 10-Year U.S. Treasury is going to be in the future to determine a realistic DCF for my property.\n",
    "    * Example: I want to predict what the cap rate on this property is, based on its characteristics."
   ]
  },
  {
   "cell_type": "markdown",
   "metadata": {},
   "source": [
    "## My Goals\n",
    "* Develop a common language among us through rapid immersion.\n",
    "    * Exploring conjectures about the world (without data, this is now called \"thought leadership\").\n",
    "    * Time series as storytelling and for forecasting.\n",
    "    * Examples of spurious correlation and considerations about causation.\n",
    "* Introduce you to R and R Studio to rapidly expand your tool kit.\n",
    "    * Provide historical background in probability and statistics.\n",
    "* I will be using Jupyter notebooks (as a substitute for PowerPoint).\n",
    "    * Occasional use of Python graphics in class.  \n",
    "        * You are not responsible for Python.\n",
    "        * You will use R and R Studio with sample R code to be implemented in class.\n",
    "        * These notes will live until we turn out the lights.\n",
    "    * The use of visualizations and Monte Carlo methods rather than mathematical proofs.\n",
    "* Provide you with many examples from a variety of sources, including real estate and finance.\n",
    "* Typical session: Lecture and discussion with examples, as well as in-class labs.  \n",
    "    * I know of no other way to learn data analytics than to do it repeatedly.\n",
    "* By the end of this class, you will know more about data analysis than the chief economists of either CBRE or JLL.  "
   ]
  },
  {
   "cell_type": "markdown",
   "metadata": {},
   "source": [
    "## The Myth of AI\n",
    "\n",
    "* For the difficult questions that we face in CRE, there is no artificial intelligence.  \n",
    "* We have tools, and you must put the human back into machine learning.\n",
    "* You must think about relationships given your domain knowledge in real estate.\n",
    "    * Finance: Can you predict interest rates or cap rates?\n",
    "    * Development: Can you predict labor costs?"
   ]
  },
  {
   "cell_type": "markdown",
   "metadata": {},
   "source": [
    "## The Syllabus"
   ]
  },
  {
   "cell_type": "markdown",
   "metadata": {},
   "source": [
    "## Your Goals"
   ]
  },
  {
   "cell_type": "markdown",
   "metadata": {},
   "source": [
    "## An Introduction to R and R Studio\n",
    "\n",
    "* R v. Python v. Excel\n",
    "    * Access to a massive collection of algorithms and datasets\n",
    "    * R has better time-series algorithms\n",
    "    * R, Python and Excel are merely tools to implement ideas\n",
    "        * Present Discounted Value: Why do we discount?\n",
    "* Jupyter v. PPT: instantenous updating\n",
    "\n",
    "### R and R Studio\n",
    "* Installing and loading libraries\n",
    "* CRAN, task views, and R vignettes\n",
    "* Graphics and story telling\n",
    "* Linear regression\n",
    "* Dataframes as spreadsheets\n",
    "* Application Protocol Interfaces (APIs)\n",
    "* Webscrapping\n",
    "* Feature engineering (data manipulation)\n",
    "* Practical examples"
   ]
  },
  {
   "cell_type": "markdown",
   "metadata": {},
   "source": [
    "## Foundational Concepts in Probability and Statistics"
   ]
  },
  {
   "cell_type": "markdown",
   "metadata": {},
   "source": [
    "### Purpose\n",
    "* Introduce you to important concepts that allow us to operationalize ideas such as **Data Generating Processes** (or DGPs).\n",
    "* All of this can be done using material you have already seen in RE Finance, RE Capital Markets or RPM.\n",
    "* Painful but **necessary**.\n",
    "* We should pay respect for the 300 years of history that has brought us here.\n",
    "* These ideas should supplement your understanding of finance."
   ]
  },
  {
   "cell_type": "markdown",
   "metadata": {},
   "source": [
    "### Geltner Ex 9-1: Probability Distribution Functions"
   ]
  },
  {
   "cell_type": "markdown",
   "metadata": {},
   "source": [
    "### Geltner Ex 9-2: Expected Returns (Averages) and Risk (Variance or Standard Deviations)"
   ]
  },
  {
   "cell_type": "markdown",
   "metadata": {},
   "source": [
    "### What is Probability?\n",
    "* Classical view arose from gambling with dice and holds that outcomes have equal probabilty.\n",
    "* Subjective view uses a model with randomness such as the payoff to a particular gamble.\n",
    "* Classical view holds that probability is based on the history of outcomes from an experiment, such as the probability the stock market goes up tomorrow or P(stock market goes up tomorrow)."
   ]
  },
  {
   "cell_type": "markdown",
   "metadata": {},
   "source": [
    "### Components of an Experiment\n",
    "\n",
    "#### Sample space, $S$, which is the set of all possible outcomes.\n",
    "\n",
    "Examples: \n",
    "\n",
    "1. Flipping a US penny, $S=\\{Heads,Tails\\}$\n",
    "\n",
    "2. Throwing a die, $S=\\{1,2,3,4,5,6\\}$\n",
    "\n",
    "3. Throwing two dice, $S=\\{i,j\\}: i,j=1,2,3,4,5,6$\n",
    "\n",
    "#### Events, $A$, which are any subset of $S$\n",
    "\n",
    "Examples: \n",
    "\n",
    "1. $\\text{Heads from } \\{Heads,Tails\\}$\n",
    "\n",
    "2. $2 \\text{ from } \\{1,2,3,4,5,6\\}$\n",
    "\n",
    "#### Probability \n",
    "\n",
    "$P: A\\rightarrow[0,1]$ or $P(A)$\n",
    "\n",
    "\n",
    "#### Properites of Probability\n",
    "\n",
    "1. The probability of an event occuring lies between 0 and 1: $P(A)\\in[0,1]$\n",
    "\n",
    "2. The probability of the sample space occurring is 1: $P(S)=1$\n",
    "\n",
    "3. Summation: $P(A \\bigcup B) = P(A) + P(B)$ for independent events\n",
    "\n",
    "4. Conditioning: $P(A|B) = P(A)$ for independent events\n",
    "\n",
    "5. Complimentary: $P(A^c) = 1-P(A)$"
   ]
  },
  {
   "cell_type": "markdown",
   "metadata": {},
   "source": [
    "### Random Variables\n",
    "\n",
    "We operationalize this through the use of **Random Variables** (both discrete and continuous) and examine important characteristics of these animals (moments) such as \n",
    "\n",
    "* Distribution Functions (Ex. 9-1 of *Geltner et al.*)\n",
    "* Measures of Central Tendency \n",
    "    * Mean \n",
    "    * Variance (standard error)\n",
    "    * Covariance or correlation (when we have more than one RV)\n",
    "* **These are simply methods of statistical accounting**\n",
    "\n",
    "### Mathematics of Central Tendency\n",
    "\n",
    "*All data analtyics drives toward the summarization of information that we call data*.  On occasion, we call this **dimensionality reduction**.\n",
    "\n",
    "Let $X$ denote a **Random Variable** and $x$ denote an event.  We seek to summarize important components through **dimensionality reduction**.\n",
    "\n",
    "Population Average:\n",
    "\n",
    "$\\mu=E[X]=\\sum P(X=x) \\cdot x$\n",
    "\n",
    "Population Variance:\n",
    "\n",
    "$\\sigma^2=Var[X]=E[(X-E[X])^2]=\\sum_k P(X=x) \\cdot (x-\\mu)^2$\n",
    "\n",
    "Population Standard Deviation:\n",
    "\n",
    "$\\sigma=\\sqrt{\\sigma^2}$\n",
    "\n",
    "Coefficient of Variation:\n",
    "\n",
    "$c_v=\\frac{\\sigma}{\\mu}$\n",
    "\n",
    "Sharpe Ratio:\n",
    "\n",
    "$S_r=\\frac{\\mu}{\\sigma}$\n",
    "\n",
    "Let $Y$ denote a different **Random Variable** and $y$ denote an event.\n",
    "\n",
    "$Cov(X, Y) = E[X-\\mu_x][Y-\\mu_y]$\n",
    "\n",
    "$Corr(X, y) = \\frac{Cov(X, Y)}{\\sigma_x \\cdot \\sigma_y} \\in (-1, 1)$"
   ]
  },
  {
   "cell_type": "markdown",
   "metadata": {},
   "source": [
    "### Measures of Central Tendancy (Means and Variances): R Example"
   ]
  },
  {
   "cell_type": "markdown",
   "metadata": {},
   "source": [
    "### The Normal Distribution: Nature's Distribution"
   ]
  },
  {
   "cell_type": "markdown",
   "metadata": {},
   "source": [
    "### Two Assets: The Bivariate Normal"
   ]
  },
  {
   "cell_type": "markdown",
   "metadata": {},
   "source": [
    "### A Hint: Why We Test Against the Normal"
   ]
  }
 ],
 "metadata": {
  "kernelspec": {
   "display_name": "Python 3",
   "language": "python",
   "name": "python3"
  },
  "language_info": {
   "codemirror_mode": {
    "name": "ipython",
    "version": 3
   },
   "file_extension": ".py",
   "mimetype": "text/x-python",
   "name": "python",
   "nbconvert_exporter": "python",
   "pygments_lexer": "ipython3",
   "version": "3.7.2"
  }
 },
 "nbformat": 4,
 "nbformat_minor": 2
}
